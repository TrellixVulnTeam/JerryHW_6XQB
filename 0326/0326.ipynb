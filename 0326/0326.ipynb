{
 "cells": [
  {
   "cell_type": "markdown",
   "metadata": {},
   "source": [
    "# HW1"
   ]
  },
  {
   "cell_type": "code",
   "execution_count": 33,
   "metadata": {},
   "outputs": [
    {
     "name": "stdout",
     "output_type": "stream",
     "text": [
      "NUMBER:60251\n"
     ]
    },
    {
     "data": {
      "text/plain": [
       "[60351]"
      ]
     },
     "execution_count": 33,
     "metadata": {},
     "output_type": "execute_result"
    }
   ],
   "source": [
    "user = input(\"NUMBER:\")\n",
    "list(map(lambda x: int(x) + 100, [user]))"
   ]
  },
  {
   "cell_type": "markdown",
   "metadata": {},
   "source": [
    "# HW2"
   ]
  },
  {
   "cell_type": "code",
   "execution_count": 35,
   "metadata": {},
   "outputs": [
    {
     "name": "stdout",
     "output_type": "stream",
     "text": [
      "add_ints: 5 6\n",
      "add_ints: 11\n"
     ]
    },
    {
     "data": {
      "text/plain": [
       "('multiply:', 30)"
      ]
     },
     "execution_count": 35,
     "metadata": {},
     "output_type": "execute_result"
    }
   ],
   "source": [
    "def mul(func):\n",
    "    def new_function(*args,**kwargs):\n",
    "        result = func(*args,**kwargs)\n",
    "        print('add_ints:',*args)\n",
    "        print('add_ints:',result)\n",
    "        return ('multiply:',args[0] * args[1])\n",
    "    return new_function\n",
    "\n",
    "@mul\n",
    "def add_ints(a,b):\n",
    "    return(a+b)\n",
    "\n",
    "add_ints(5,6)"
   ]
  },
  {
   "cell_type": "markdown",
   "metadata": {},
   "source": [
    "# HW3"
   ]
  },
  {
   "cell_type": "code",
   "execution_count": 36,
   "metadata": {},
   "outputs": [
    {
     "name": "stdout",
     "output_type": "stream",
     "text": [
      "輸入的數值5.5\n",
      "出錯，請重新輸入\n",
      "輸入的數值5.1\n",
      "出錯，請重新輸入\n",
      "輸入的數值5.3\n",
      "出錯，請重新輸入\n",
      "輸入的數值5\n"
     ]
    }
   ],
   "source": [
    "while True:\n",
    "    try:\n",
    "        x = int(input('輸入的數值'))\n",
    "        break\n",
    "    except:\n",
    "        print(\"出錯，請重新輸入\")"
   ]
  },
  {
   "cell_type": "markdown",
   "metadata": {},
   "source": [
    "# HW4"
   ]
  },
  {
   "cell_type": "code",
   "execution_count": 40,
   "metadata": {},
   "outputs": [
    {
     "name": "stdout",
     "output_type": "stream",
     "text": [
      "運算符號(+-*/):+\n",
      "NUM1:1\n",
      "NUM2:101\n",
      "102\n"
     ]
    }
   ],
   "source": [
    "from source import calculator as d\n",
    "\n",
    "x = input(\"運算符號(+-*/):\")\n",
    "\n",
    "if x == '+':\n",
    "    i = d.sum_num\n",
    "elif x == '-':\n",
    "    i = d.sub_num\n",
    "elif x == '*':\n",
    "    i = d.mul_num\n",
    "elif x == '/':\n",
    "    i = d.div_num\n",
    "    \n",
    "a = int(input('NUM1:'))\n",
    "b = int(input('NUM2:'))\n",
    "print (i(a,b))"
   ]
  },
  {
   "cell_type": "code",
   "execution_count": null,
   "metadata": {},
   "outputs": [],
   "source": []
  }
 ],
 "metadata": {
  "kernelspec": {
   "display_name": "Python 3",
   "language": "python",
   "name": "python3"
  },
  "language_info": {
   "codemirror_mode": {
    "name": "ipython",
    "version": 3
   },
   "file_extension": ".py",
   "mimetype": "text/x-python",
   "name": "python",
   "nbconvert_exporter": "python",
   "pygments_lexer": "ipython3",
   "version": "3.6.4"
  }
 },
 "nbformat": 4,
 "nbformat_minor": 2
}
